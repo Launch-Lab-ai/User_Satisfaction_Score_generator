{
 "cells": [
  {
   "cell_type": "markdown",
   "id": "6aa057b5",
   "metadata": {},
   "source": [
    "**AutoML Benchmark model to predict Customer Satisfaction Score**<br>\n",
    "**Objective**: Use FLAML to select the best regression model to predict `SatisfactionScore`  \n",
    "**Dataset**: Customer Demographics & Feedback (38,000+ entries)  \n",
    "**Models Evaluated**: CatBoost, LightGBM "
   ]
  },
  {
   "cell_type": "code",
   "execution_count": null,
   "id": "17cb07a8",
   "metadata": {},
   "outputs": [],
   "source": [
    "#imprting all necessary libraries\n",
    "from flaml import AutoML\n",
    "import numpy as np\n",
    "import pandas as pd\n",
    "import seaborn as sns\n",
    "import matplotlib.pyplot as plt"
   ]
  },
  {
   "cell_type": "code",
   "execution_count": null,
   "id": "a38dea80",
   "metadata": {},
   "outputs": [],
   "source": [
    "#reading the dataset\n",
    "dataset=pd.read_csv('customer_feedback_satisfaction.csv')"
   ]
  },
  {
   "cell_type": "code",
   "execution_count": null,
   "id": "944a2bd6",
   "metadata": {},
   "outputs": [
    {
     "data": {
      "application/vnd.microsoft.datawrangler.viewer.v0+json": {
       "columns": [
        {
         "name": "index",
         "rawType": "int64",
         "type": "integer"
        },
        {
         "name": "CustomerID",
         "rawType": "int64",
         "type": "integer"
        },
        {
         "name": "Age",
         "rawType": "int64",
         "type": "integer"
        },
        {
         "name": "Gender",
         "rawType": "object",
         "type": "string"
        },
        {
         "name": "Country",
         "rawType": "object",
         "type": "string"
        },
        {
         "name": "Income",
         "rawType": "int64",
         "type": "integer"
        },
        {
         "name": "ProductQuality",
         "rawType": "int64",
         "type": "integer"
        },
        {
         "name": "ServiceQuality",
         "rawType": "int64",
         "type": "integer"
        },
        {
         "name": "PurchaseFrequency",
         "rawType": "int64",
         "type": "integer"
        },
        {
         "name": "FeedbackScore",
         "rawType": "object",
         "type": "string"
        },
        {
         "name": "LoyaltyLevel",
         "rawType": "object",
         "type": "string"
        },
        {
         "name": "SatisfactionScore",
         "rawType": "float64",
         "type": "float"
        }
       ],
       "ref": "8691cf50-b843-4ec4-834d-19c674147aa0",
       "rows": [
        [
         "0",
         "1",
         "56",
         "Male",
         "UK",
         "83094",
         "5",
         "8",
         "5",
         "Low",
         "Bronze",
         "100.0"
        ],
        [
         "1",
         "2",
         "69",
         "Male",
         "UK",
         "86860",
         "10",
         "2",
         "8",
         "Medium",
         "Gold",
         "100.0"
        ],
        [
         "2",
         "3",
         "46",
         "Female",
         "USA",
         "60173",
         "8",
         "10",
         "18",
         "Medium",
         "Silver",
         "100.0"
        ],
        [
         "3",
         "4",
         "32",
         "Female",
         "UK",
         "73884",
         "7",
         "10",
         "16",
         "Low",
         "Gold",
         "100.0"
        ],
        [
         "4",
         "5",
         "60",
         "Male",
         "UK",
         "97546",
         "6",
         "4",
         "13",
         "Low",
         "Bronze",
         "82.0"
        ]
       ],
       "shape": {
        "columns": 11,
        "rows": 5
       }
      },
      "text/html": [
       "<div>\n",
       "<style scoped>\n",
       "    .dataframe tbody tr th:only-of-type {\n",
       "        vertical-align: middle;\n",
       "    }\n",
       "\n",
       "    .dataframe tbody tr th {\n",
       "        vertical-align: top;\n",
       "    }\n",
       "\n",
       "    .dataframe thead th {\n",
       "        text-align: right;\n",
       "    }\n",
       "</style>\n",
       "<table border=\"1\" class=\"dataframe\">\n",
       "  <thead>\n",
       "    <tr style=\"text-align: right;\">\n",
       "      <th></th>\n",
       "      <th>CustomerID</th>\n",
       "      <th>Age</th>\n",
       "      <th>Gender</th>\n",
       "      <th>Country</th>\n",
       "      <th>Income</th>\n",
       "      <th>ProductQuality</th>\n",
       "      <th>ServiceQuality</th>\n",
       "      <th>PurchaseFrequency</th>\n",
       "      <th>FeedbackScore</th>\n",
       "      <th>LoyaltyLevel</th>\n",
       "      <th>SatisfactionScore</th>\n",
       "    </tr>\n",
       "  </thead>\n",
       "  <tbody>\n",
       "    <tr>\n",
       "      <th>0</th>\n",
       "      <td>1</td>\n",
       "      <td>56</td>\n",
       "      <td>Male</td>\n",
       "      <td>UK</td>\n",
       "      <td>83094</td>\n",
       "      <td>5</td>\n",
       "      <td>8</td>\n",
       "      <td>5</td>\n",
       "      <td>Low</td>\n",
       "      <td>Bronze</td>\n",
       "      <td>100.0</td>\n",
       "    </tr>\n",
       "    <tr>\n",
       "      <th>1</th>\n",
       "      <td>2</td>\n",
       "      <td>69</td>\n",
       "      <td>Male</td>\n",
       "      <td>UK</td>\n",
       "      <td>86860</td>\n",
       "      <td>10</td>\n",
       "      <td>2</td>\n",
       "      <td>8</td>\n",
       "      <td>Medium</td>\n",
       "      <td>Gold</td>\n",
       "      <td>100.0</td>\n",
       "    </tr>\n",
       "    <tr>\n",
       "      <th>2</th>\n",
       "      <td>3</td>\n",
       "      <td>46</td>\n",
       "      <td>Female</td>\n",
       "      <td>USA</td>\n",
       "      <td>60173</td>\n",
       "      <td>8</td>\n",
       "      <td>10</td>\n",
       "      <td>18</td>\n",
       "      <td>Medium</td>\n",
       "      <td>Silver</td>\n",
       "      <td>100.0</td>\n",
       "    </tr>\n",
       "    <tr>\n",
       "      <th>3</th>\n",
       "      <td>4</td>\n",
       "      <td>32</td>\n",
       "      <td>Female</td>\n",
       "      <td>UK</td>\n",
       "      <td>73884</td>\n",
       "      <td>7</td>\n",
       "      <td>10</td>\n",
       "      <td>16</td>\n",
       "      <td>Low</td>\n",
       "      <td>Gold</td>\n",
       "      <td>100.0</td>\n",
       "    </tr>\n",
       "    <tr>\n",
       "      <th>4</th>\n",
       "      <td>5</td>\n",
       "      <td>60</td>\n",
       "      <td>Male</td>\n",
       "      <td>UK</td>\n",
       "      <td>97546</td>\n",
       "      <td>6</td>\n",
       "      <td>4</td>\n",
       "      <td>13</td>\n",
       "      <td>Low</td>\n",
       "      <td>Bronze</td>\n",
       "      <td>82.0</td>\n",
       "    </tr>\n",
       "  </tbody>\n",
       "</table>\n",
       "</div>"
      ],
      "text/plain": [
       "   CustomerID  Age  Gender Country  Income  ProductQuality  ServiceQuality  \\\n",
       "0           1   56    Male      UK   83094               5               8   \n",
       "1           2   69    Male      UK   86860              10               2   \n",
       "2           3   46  Female     USA   60173               8              10   \n",
       "3           4   32  Female      UK   73884               7              10   \n",
       "4           5   60    Male      UK   97546               6               4   \n",
       "\n",
       "   PurchaseFrequency FeedbackScore LoyaltyLevel  SatisfactionScore  \n",
       "0                  5           Low       Bronze              100.0  \n",
       "1                  8        Medium         Gold              100.0  \n",
       "2                 18        Medium       Silver              100.0  \n",
       "3                 16           Low         Gold              100.0  \n",
       "4                 13           Low       Bronze               82.0  "
      ]
     },
     "execution_count": 7,
     "metadata": {},
     "output_type": "execute_result"
    }
   ],
   "source": [
    "#taking a peek into our dataset\n",
    "dataset.head()"
   ]
  },
  {
   "cell_type": "code",
   "execution_count": null,
   "id": "f9fdad68",
   "metadata": {},
   "outputs": [
    {
     "data": {
      "text/plain": [
       "(38444, 10)"
      ]
     },
     "execution_count": 38,
     "metadata": {},
     "output_type": "execute_result"
    }
   ],
   "source": [
    "#dimensions of dataset\n",
    "dataset.shape"
   ]
  },
  {
   "cell_type": "code",
   "execution_count": null,
   "id": "3eb26617",
   "metadata": {},
   "outputs": [],
   "source": [
    "#setting CustomerID as index\n",
    "dataset.set_index('CustomerID', inplace=True)"
   ]
  },
  {
   "cell_type": "markdown",
   "id": "b35c34ab",
   "metadata": {},
   "source": [
    "We set **CustomerID** as index since the dataset includes ratings from 38444 unique customers"
   ]
  },
  {
   "cell_type": "code",
   "execution_count": null,
   "id": "f767f971",
   "metadata": {},
   "outputs": [
    {
     "name": "stdout",
     "output_type": "stream",
     "text": [
      "<class 'pandas.core.frame.DataFrame'>\n",
      "Index: 38444 entries, 1 to 38444\n",
      "Data columns (total 10 columns):\n",
      " #   Column             Non-Null Count  Dtype  \n",
      "---  ------             --------------  -----  \n",
      " 0   Age                38444 non-null  int64  \n",
      " 1   Gender             38444 non-null  object \n",
      " 2   Country            38444 non-null  object \n",
      " 3   Income             38444 non-null  int64  \n",
      " 4   ProductQuality     38444 non-null  int64  \n",
      " 5   ServiceQuality     38444 non-null  int64  \n",
      " 6   PurchaseFrequency  38444 non-null  int64  \n",
      " 7   FeedbackScore      38444 non-null  object \n",
      " 8   LoyaltyLevel       38444 non-null  object \n",
      " 9   SatisfactionScore  38444 non-null  float64\n",
      "dtypes: float64(1), int64(5), object(4)\n",
      "memory usage: 3.2+ MB\n"
     ]
    }
   ],
   "source": [
    "#general information about dataset\n",
    "dataset.info()"
   ]
  },
  {
   "cell_type": "code",
   "execution_count": null,
   "id": "656bc358",
   "metadata": {},
   "outputs": [
    {
     "data": {
      "application/vnd.microsoft.datawrangler.viewer.v0+json": {
       "columns": [
        {
         "name": "index",
         "rawType": "object",
         "type": "string"
        },
        {
         "name": "Age",
         "rawType": "float64",
         "type": "float"
        },
        {
         "name": "Gender",
         "rawType": "object",
         "type": "unknown"
        },
        {
         "name": "Country",
         "rawType": "object",
         "type": "unknown"
        },
        {
         "name": "Income",
         "rawType": "float64",
         "type": "float"
        },
        {
         "name": "ProductQuality",
         "rawType": "float64",
         "type": "float"
        },
        {
         "name": "ServiceQuality",
         "rawType": "float64",
         "type": "float"
        },
        {
         "name": "PurchaseFrequency",
         "rawType": "float64",
         "type": "float"
        },
        {
         "name": "FeedbackScore",
         "rawType": "object",
         "type": "unknown"
        },
        {
         "name": "LoyaltyLevel",
         "rawType": "object",
         "type": "unknown"
        },
        {
         "name": "SatisfactionScore",
         "rawType": "float64",
         "type": "float"
        }
       ],
       "ref": "c07fce3d-223e-4f61-92c5-9531f5a99b22",
       "rows": [
        [
         "count",
         "38444.0",
         "38444",
         "38444",
         "38444.0",
         "38444.0",
         "38444.0",
         "38444.0",
         "38444",
         "38444",
         "38444.0"
        ],
        [
         "unique",
         null,
         "2",
         "5",
         null,
         null,
         null,
         null,
         "3",
         "3",
         null
        ],
        [
         "top",
         null,
         "Female",
         "USA",
         null,
         null,
         null,
         null,
         "High",
         "Gold",
         null
        ],
        [
         "freq",
         null,
         "19294",
         "7762",
         null,
         null,
         null,
         null,
         "12918",
         "12912",
         null
        ],
        [
         "mean",
         "43.49685256476953",
         null,
         null,
         "75076.6192383727",
         "5.494745603995422",
         "5.492768702528353",
         "10.453880969722194",
         null,
         null,
         "85.27640906253252"
        ],
        [
         "std",
         "14.972748458410589",
         null,
         null,
         "25975.75296630079",
         "2.873192201440815",
         "2.8758122356757023",
         "5.765621461501311",
         null,
         null,
         "16.898577188472572"
        ],
        [
         "min",
         "18.0",
         null,
         null,
         "30001.0",
         "1.0",
         "1.0",
         "1.0",
         null,
         null,
         "4.28"
        ],
        [
         "25%",
         "31.0",
         null,
         null,
         "52624.5",
         "3.0",
         "3.0",
         "5.0",
         null,
         null,
         "74.47"
        ],
        [
         "50%",
         "43.0",
         null,
         null,
         "75236.0",
         "5.0",
         "5.0",
         "10.0",
         null,
         null,
         "91.27"
        ],
        [
         "75%",
         "56.0",
         null,
         null,
         "97606.75",
         "8.0",
         "8.0",
         "15.0",
         null,
         null,
         "100.0"
        ],
        [
         "max",
         "69.0",
         null,
         null,
         "119999.0",
         "10.0",
         "10.0",
         "20.0",
         null,
         null,
         "100.0"
        ]
       ],
       "shape": {
        "columns": 10,
        "rows": 11
       }
      },
      "text/html": [
       "<div>\n",
       "<style scoped>\n",
       "    .dataframe tbody tr th:only-of-type {\n",
       "        vertical-align: middle;\n",
       "    }\n",
       "\n",
       "    .dataframe tbody tr th {\n",
       "        vertical-align: top;\n",
       "    }\n",
       "\n",
       "    .dataframe thead th {\n",
       "        text-align: right;\n",
       "    }\n",
       "</style>\n",
       "<table border=\"1\" class=\"dataframe\">\n",
       "  <thead>\n",
       "    <tr style=\"text-align: right;\">\n",
       "      <th></th>\n",
       "      <th>Age</th>\n",
       "      <th>Gender</th>\n",
       "      <th>Country</th>\n",
       "      <th>Income</th>\n",
       "      <th>ProductQuality</th>\n",
       "      <th>ServiceQuality</th>\n",
       "      <th>PurchaseFrequency</th>\n",
       "      <th>FeedbackScore</th>\n",
       "      <th>LoyaltyLevel</th>\n",
       "      <th>SatisfactionScore</th>\n",
       "    </tr>\n",
       "  </thead>\n",
       "  <tbody>\n",
       "    <tr>\n",
       "      <th>count</th>\n",
       "      <td>38444.000000</td>\n",
       "      <td>38444</td>\n",
       "      <td>38444</td>\n",
       "      <td>38444.000000</td>\n",
       "      <td>38444.000000</td>\n",
       "      <td>38444.000000</td>\n",
       "      <td>38444.000000</td>\n",
       "      <td>38444</td>\n",
       "      <td>38444</td>\n",
       "      <td>38444.000000</td>\n",
       "    </tr>\n",
       "    <tr>\n",
       "      <th>unique</th>\n",
       "      <td>NaN</td>\n",
       "      <td>2</td>\n",
       "      <td>5</td>\n",
       "      <td>NaN</td>\n",
       "      <td>NaN</td>\n",
       "      <td>NaN</td>\n",
       "      <td>NaN</td>\n",
       "      <td>3</td>\n",
       "      <td>3</td>\n",
       "      <td>NaN</td>\n",
       "    </tr>\n",
       "    <tr>\n",
       "      <th>top</th>\n",
       "      <td>NaN</td>\n",
       "      <td>Female</td>\n",
       "      <td>USA</td>\n",
       "      <td>NaN</td>\n",
       "      <td>NaN</td>\n",
       "      <td>NaN</td>\n",
       "      <td>NaN</td>\n",
       "      <td>High</td>\n",
       "      <td>Gold</td>\n",
       "      <td>NaN</td>\n",
       "    </tr>\n",
       "    <tr>\n",
       "      <th>freq</th>\n",
       "      <td>NaN</td>\n",
       "      <td>19294</td>\n",
       "      <td>7762</td>\n",
       "      <td>NaN</td>\n",
       "      <td>NaN</td>\n",
       "      <td>NaN</td>\n",
       "      <td>NaN</td>\n",
       "      <td>12918</td>\n",
       "      <td>12912</td>\n",
       "      <td>NaN</td>\n",
       "    </tr>\n",
       "    <tr>\n",
       "      <th>mean</th>\n",
       "      <td>43.496853</td>\n",
       "      <td>NaN</td>\n",
       "      <td>NaN</td>\n",
       "      <td>75076.619238</td>\n",
       "      <td>5.494746</td>\n",
       "      <td>5.492769</td>\n",
       "      <td>10.453881</td>\n",
       "      <td>NaN</td>\n",
       "      <td>NaN</td>\n",
       "      <td>85.276409</td>\n",
       "    </tr>\n",
       "    <tr>\n",
       "      <th>std</th>\n",
       "      <td>14.972748</td>\n",
       "      <td>NaN</td>\n",
       "      <td>NaN</td>\n",
       "      <td>25975.752966</td>\n",
       "      <td>2.873192</td>\n",
       "      <td>2.875812</td>\n",
       "      <td>5.765621</td>\n",
       "      <td>NaN</td>\n",
       "      <td>NaN</td>\n",
       "      <td>16.898577</td>\n",
       "    </tr>\n",
       "    <tr>\n",
       "      <th>min</th>\n",
       "      <td>18.000000</td>\n",
       "      <td>NaN</td>\n",
       "      <td>NaN</td>\n",
       "      <td>30001.000000</td>\n",
       "      <td>1.000000</td>\n",
       "      <td>1.000000</td>\n",
       "      <td>1.000000</td>\n",
       "      <td>NaN</td>\n",
       "      <td>NaN</td>\n",
       "      <td>4.280000</td>\n",
       "    </tr>\n",
       "    <tr>\n",
       "      <th>25%</th>\n",
       "      <td>31.000000</td>\n",
       "      <td>NaN</td>\n",
       "      <td>NaN</td>\n",
       "      <td>52624.500000</td>\n",
       "      <td>3.000000</td>\n",
       "      <td>3.000000</td>\n",
       "      <td>5.000000</td>\n",
       "      <td>NaN</td>\n",
       "      <td>NaN</td>\n",
       "      <td>74.470000</td>\n",
       "    </tr>\n",
       "    <tr>\n",
       "      <th>50%</th>\n",
       "      <td>43.000000</td>\n",
       "      <td>NaN</td>\n",
       "      <td>NaN</td>\n",
       "      <td>75236.000000</td>\n",
       "      <td>5.000000</td>\n",
       "      <td>5.000000</td>\n",
       "      <td>10.000000</td>\n",
       "      <td>NaN</td>\n",
       "      <td>NaN</td>\n",
       "      <td>91.270000</td>\n",
       "    </tr>\n",
       "    <tr>\n",
       "      <th>75%</th>\n",
       "      <td>56.000000</td>\n",
       "      <td>NaN</td>\n",
       "      <td>NaN</td>\n",
       "      <td>97606.750000</td>\n",
       "      <td>8.000000</td>\n",
       "      <td>8.000000</td>\n",
       "      <td>15.000000</td>\n",
       "      <td>NaN</td>\n",
       "      <td>NaN</td>\n",
       "      <td>100.000000</td>\n",
       "    </tr>\n",
       "    <tr>\n",
       "      <th>max</th>\n",
       "      <td>69.000000</td>\n",
       "      <td>NaN</td>\n",
       "      <td>NaN</td>\n",
       "      <td>119999.000000</td>\n",
       "      <td>10.000000</td>\n",
       "      <td>10.000000</td>\n",
       "      <td>20.000000</td>\n",
       "      <td>NaN</td>\n",
       "      <td>NaN</td>\n",
       "      <td>100.000000</td>\n",
       "    </tr>\n",
       "  </tbody>\n",
       "</table>\n",
       "</div>"
      ],
      "text/plain": [
       "                 Age  Gender Country         Income  ProductQuality  \\\n",
       "count   38444.000000   38444   38444   38444.000000    38444.000000   \n",
       "unique           NaN       2       5            NaN             NaN   \n",
       "top              NaN  Female     USA            NaN             NaN   \n",
       "freq             NaN   19294    7762            NaN             NaN   \n",
       "mean       43.496853     NaN     NaN   75076.619238        5.494746   \n",
       "std        14.972748     NaN     NaN   25975.752966        2.873192   \n",
       "min        18.000000     NaN     NaN   30001.000000        1.000000   \n",
       "25%        31.000000     NaN     NaN   52624.500000        3.000000   \n",
       "50%        43.000000     NaN     NaN   75236.000000        5.000000   \n",
       "75%        56.000000     NaN     NaN   97606.750000        8.000000   \n",
       "max        69.000000     NaN     NaN  119999.000000       10.000000   \n",
       "\n",
       "        ServiceQuality  PurchaseFrequency FeedbackScore LoyaltyLevel  \\\n",
       "count     38444.000000       38444.000000         38444        38444   \n",
       "unique             NaN                NaN             3            3   \n",
       "top                NaN                NaN          High         Gold   \n",
       "freq               NaN                NaN         12918        12912   \n",
       "mean          5.492769          10.453881           NaN          NaN   \n",
       "std           2.875812           5.765621           NaN          NaN   \n",
       "min           1.000000           1.000000           NaN          NaN   \n",
       "25%           3.000000           5.000000           NaN          NaN   \n",
       "50%           5.000000          10.000000           NaN          NaN   \n",
       "75%           8.000000          15.000000           NaN          NaN   \n",
       "max          10.000000          20.000000           NaN          NaN   \n",
       "\n",
       "        SatisfactionScore  \n",
       "count        38444.000000  \n",
       "unique                NaN  \n",
       "top                   NaN  \n",
       "freq                  NaN  \n",
       "mean            85.276409  \n",
       "std             16.898577  \n",
       "min              4.280000  \n",
       "25%             74.470000  \n",
       "50%             91.270000  \n",
       "75%            100.000000  \n",
       "max            100.000000  "
      ]
     },
     "execution_count": 10,
     "metadata": {},
     "output_type": "execute_result"
    }
   ],
   "source": [
    "#column stats\n",
    "dataset.describe(include='all')"
   ]
  },
  {
   "cell_type": "code",
   "execution_count": null,
   "id": "045e209d",
   "metadata": {},
   "outputs": [
    {
     "name": "stdout",
     "output_type": "stream",
     "text": [
      "Range of age is :  18  -  69\n",
      "Range of income is : $ 30001  - $ 119999\n",
      "Range of ProductQuality score is :  1  -  10\n",
      "Range of ServiceQuality score is :  1  -  10\n",
      "Range of Purchase Frequency is :  1  -  20\n"
     ]
    }
   ],
   "source": [
    "#Range of values in numerical columns\n",
    "print(\"Range of age is : \",min(dataset['Age']),\" - \",max(dataset['Age']))\n",
    "print(\"Range of income is : $\",min(dataset['Income']),\" - $\",max(dataset['Income']))\n",
    "print(\"Range of ProductQuality score is : \",min(dataset['ProductQuality']),\" - \",max(dataset['ProductQuality']))\n",
    "print(\"Range of ServiceQuality score is : \",min(dataset['ServiceQuality']),\" - \",max(dataset['ServiceQuality']))\n",
    "print(\"Range of Purchase Frequency is : \",min(dataset['PurchaseFrequency']),\" - \",max(dataset['PurchaseFrequency']))"
   ]
  },
  {
   "cell_type": "code",
   "execution_count": null,
   "id": "80753a33",
   "metadata": {},
   "outputs": [
    {
     "name": "stdout",
     "output_type": "stream",
     "text": [
      "Unique Countries:  ['UK' 'USA' 'France' 'Germany' 'Canada']\n",
      "Unique Genders:  ['Male' 'Female']\n",
      "Unique Feedback Score:  ['Low' 'Medium' 'High']\n",
      "Unique Loyalty Level:  ['Bronze' 'Gold' 'Silver']\n"
     ]
    }
   ],
   "source": [
    "#Unique values in categorical columns\n",
    "print(\"Unique Countries: \", dataset['Country'].unique())\n",
    "print(\"Unique Genders: \", dataset['Gender'].unique())\n",
    "print(\"Unique Feedback Score: \", dataset['FeedbackScore'].unique())\n",
    "print(\"Unique Loyalty Level: \", dataset['LoyaltyLevel'].unique())"
   ]
  },
  {
   "cell_type": "code",
   "execution_count": null,
   "id": "9b5719d3",
   "metadata": {},
   "outputs": [
    {
     "name": "stdout",
     "output_type": "stream",
     "text": [
      "Range of Satisfaction Score is : 0 -  100.0\n"
     ]
    }
   ],
   "source": [
    "#Range of satisfaction score\n",
    "print(\"Range of Satisfaction Score is : 0 - \",max(dataset['SatisfactionScore']))"
   ]
  },
  {
   "cell_type": "code",
   "execution_count": null,
   "id": "d063005b",
   "metadata": {},
   "outputs": [],
   "source": [
    "dataset=pd.get_dummies(dataset, columns=['Country','Gender','FeedbackScore','LoyaltyLevel'])"
   ]
  },
  {
   "cell_type": "code",
   "execution_count": null,
   "id": "650e6591",
   "metadata": {},
   "outputs": [],
   "source": [
    "Y=dataset['SatisfactionScore']"
   ]
  },
  {
   "cell_type": "code",
   "execution_count": null,
   "id": "347e98cd",
   "metadata": {},
   "outputs": [],
   "source": [
    "X=dataset.drop('SatisfactionScore', axis=1)"
   ]
  },
  {
   "cell_type": "code",
   "execution_count": 31,
   "id": "8f56b973",
   "metadata": {},
   "outputs": [],
   "source": [
    "from sklearn.model_selection import train_test_split\n",
    "X_train,X_test,Y_train,Y_test=train_test_split(X,Y,test_size=0.25, random_state=42)"
   ]
  },
  {
   "cell_type": "code",
   "execution_count": null,
   "id": "ddde9c5e",
   "metadata": {},
   "outputs": [
    {
     "name": "stdout",
     "output_type": "stream",
     "text": [
      "[flaml.automl.logger: 06-26 23:15:33] {1752} INFO - task = regression\n",
      "[flaml.automl.logger: 06-26 23:15:33] {1763} INFO - Evaluation method: holdout\n",
      "[flaml.automl.logger: 06-26 23:15:33] {1862} INFO - Minimizing error metric: 1-r2\n",
      "[flaml.automl.logger: 06-26 23:15:33] {1979} INFO - List of ML learners in AutoML Run: ['catboost', 'lgbm']\n",
      "[flaml.automl.logger: 06-26 23:15:33] {2282} INFO - iteration 0, current learner catboost\n",
      "[flaml.automl.logger: 06-26 23:15:33] {2417} INFO - Estimated sufficient time budget=2281s. Estimated necessary time budget=2s.\n",
      "[flaml.automl.logger: 06-26 23:15:33] {2466} INFO -  at 0.3s,\testimator catboost's best error=0.2082,\tbest estimator catboost's best error=0.2082\n",
      "[flaml.automl.logger: 06-26 23:15:33] {2282} INFO - iteration 1, current learner lgbm\n",
      "[flaml.automl.logger: 06-26 23:15:33] {2466} INFO -  at 0.3s,\testimator lgbm's best error=0.7083,\tbest estimator catboost's best error=0.2082\n",
      "[flaml.automl.logger: 06-26 23:15:33] {2282} INFO - iteration 2, current learner lgbm\n",
      "[flaml.automl.logger: 06-26 23:15:33] {2466} INFO -  at 0.4s,\testimator lgbm's best error=0.7083,\tbest estimator catboost's best error=0.2082\n",
      "[flaml.automl.logger: 06-26 23:15:33] {2282} INFO - iteration 3, current learner lgbm\n",
      "[flaml.automl.logger: 06-26 23:15:33] {2466} INFO -  at 0.4s,\testimator lgbm's best error=0.4670,\tbest estimator catboost's best error=0.2082\n",
      "[flaml.automl.logger: 06-26 23:15:33] {2282} INFO - iteration 4, current learner catboost\n",
      "[flaml.automl.logger: 06-26 23:15:34] {2466} INFO -  at 0.7s,\testimator catboost's best error=0.2076,\tbest estimator catboost's best error=0.2076\n",
      "[flaml.automl.logger: 06-26 23:15:34] {2282} INFO - iteration 5, current learner lgbm\n",
      "[flaml.automl.logger: 06-26 23:15:34] {2466} INFO -  at 0.7s,\testimator lgbm's best error=0.2726,\tbest estimator catboost's best error=0.2076\n",
      "[flaml.automl.logger: 06-26 23:15:34] {2282} INFO - iteration 6, current learner lgbm\n",
      "[flaml.automl.logger: 06-26 23:15:34] {2466} INFO -  at 0.8s,\testimator lgbm's best error=0.2726,\tbest estimator catboost's best error=0.2076\n",
      "[flaml.automl.logger: 06-26 23:15:34] {2282} INFO - iteration 7, current learner lgbm\n",
      "[flaml.automl.logger: 06-26 23:15:34] {2466} INFO -  at 0.8s,\testimator lgbm's best error=0.2376,\tbest estimator catboost's best error=0.2076\n",
      "[flaml.automl.logger: 06-26 23:15:34] {2282} INFO - iteration 8, current learner lgbm\n",
      "[flaml.automl.logger: 06-26 23:15:34] {2466} INFO -  at 0.8s,\testimator lgbm's best error=0.2376,\tbest estimator catboost's best error=0.2076\n",
      "[flaml.automl.logger: 06-26 23:15:34] {2282} INFO - iteration 9, current learner lgbm\n",
      "[flaml.automl.logger: 06-26 23:15:34] {2466} INFO -  at 0.8s,\testimator lgbm's best error=0.2376,\tbest estimator catboost's best error=0.2076\n",
      "[flaml.automl.logger: 06-26 23:15:34] {2282} INFO - iteration 10, current learner lgbm\n",
      "[flaml.automl.logger: 06-26 23:15:34] {2466} INFO -  at 0.9s,\testimator lgbm's best error=0.2233,\tbest estimator catboost's best error=0.2076\n",
      "[flaml.automl.logger: 06-26 23:15:34] {2282} INFO - iteration 11, current learner lgbm\n",
      "[flaml.automl.logger: 06-26 23:15:34] {2466} INFO -  at 0.9s,\testimator lgbm's best error=0.2233,\tbest estimator catboost's best error=0.2076\n",
      "[flaml.automl.logger: 06-26 23:15:34] {2282} INFO - iteration 12, current learner lgbm\n",
      "[flaml.automl.logger: 06-26 23:15:34] {2466} INFO -  at 1.1s,\testimator lgbm's best error=0.2128,\tbest estimator catboost's best error=0.2076\n",
      "[flaml.automl.logger: 06-26 23:15:34] {2282} INFO - iteration 13, current learner lgbm\n",
      "[flaml.automl.logger: 06-26 23:15:34] {2466} INFO -  at 1.6s,\testimator lgbm's best error=0.2128,\tbest estimator catboost's best error=0.2076\n",
      "[flaml.automl.logger: 06-26 23:15:34] {2282} INFO - iteration 14, current learner catboost\n",
      "[flaml.automl.logger: 06-26 23:15:35] {2466} INFO -  at 1.8s,\testimator catboost's best error=0.2076,\tbest estimator catboost's best error=0.2076\n",
      "[flaml.automl.logger: 06-26 23:15:35] {2282} INFO - iteration 15, current learner lgbm\n",
      "[flaml.automl.logger: 06-26 23:15:35] {2466} INFO -  at 2.1s,\testimator lgbm's best error=0.2128,\tbest estimator catboost's best error=0.2076\n",
      "[flaml.automl.logger: 06-26 23:15:35] {2282} INFO - iteration 16, current learner catboost\n",
      "[flaml.automl.logger: 06-26 23:15:35] {2466} INFO -  at 2.5s,\testimator catboost's best error=0.2076,\tbest estimator catboost's best error=0.2076\n",
      "[flaml.automl.logger: 06-26 23:15:35] {2282} INFO - iteration 17, current learner lgbm\n",
      "[flaml.automl.logger: 06-26 23:15:36] {2466} INFO -  at 2.7s,\testimator lgbm's best error=0.2128,\tbest estimator catboost's best error=0.2076\n",
      "[flaml.automl.logger: 06-26 23:15:36] {2282} INFO - iteration 18, current learner catboost\n",
      "[flaml.automl.logger: 06-26 23:15:36] {2466} INFO -  at 2.9s,\testimator catboost's best error=0.2076,\tbest estimator catboost's best error=0.2076\n",
      "[flaml.automl.logger: 06-26 23:15:36] {2282} INFO - iteration 19, current learner catboost\n",
      "[flaml.automl.logger: 06-26 23:15:36] {2466} INFO -  at 3.3s,\testimator catboost's best error=0.2076,\tbest estimator catboost's best error=0.2076\n",
      "[flaml.automl.logger: 06-26 23:15:36] {2282} INFO - iteration 20, current learner catboost\n",
      "[flaml.automl.logger: 06-26 23:15:39] {2466} INFO -  at 5.9s,\testimator catboost's best error=0.2076,\tbest estimator catboost's best error=0.2076\n",
      "[flaml.automl.logger: 06-26 23:15:39] {2282} INFO - iteration 21, current learner catboost\n",
      "[flaml.automl.logger: 06-26 23:15:44] {2466} INFO -  at 10.8s,\testimator catboost's best error=0.2076,\tbest estimator catboost's best error=0.2076\n",
      "[flaml.automl.logger: 06-26 23:15:44] {2282} INFO - iteration 22, current learner lgbm\n",
      "[flaml.automl.logger: 06-26 23:15:44] {2466} INFO -  at 11.1s,\testimator lgbm's best error=0.2128,\tbest estimator catboost's best error=0.2076\n",
      "[flaml.automl.logger: 06-26 23:15:44] {2282} INFO - iteration 23, current learner lgbm\n",
      "[flaml.automl.logger: 06-26 23:15:44] {2466} INFO -  at 11.4s,\testimator lgbm's best error=0.2128,\tbest estimator catboost's best error=0.2076\n",
      "[flaml.automl.logger: 06-26 23:15:44] {2282} INFO - iteration 24, current learner lgbm\n",
      "[flaml.automl.logger: 06-26 23:15:44] {2466} INFO -  at 11.5s,\testimator lgbm's best error=0.2128,\tbest estimator catboost's best error=0.2076\n",
      "[flaml.automl.logger: 06-26 23:15:44] {2282} INFO - iteration 25, current learner lgbm\n",
      "[flaml.automl.logger: 06-26 23:15:45] {2466} INFO -  at 11.8s,\testimator lgbm's best error=0.2128,\tbest estimator catboost's best error=0.2076\n",
      "[flaml.automl.logger: 06-26 23:15:45] {2282} INFO - iteration 26, current learner lgbm\n",
      "[flaml.automl.logger: 06-26 23:15:45] {2466} INFO -  at 11.9s,\testimator lgbm's best error=0.2099,\tbest estimator catboost's best error=0.2076\n",
      "[flaml.automl.logger: 06-26 23:15:45] {2282} INFO - iteration 27, current learner lgbm\n",
      "[flaml.automl.logger: 06-26 23:15:45] {2466} INFO -  at 12.0s,\testimator lgbm's best error=0.2099,\tbest estimator catboost's best error=0.2076\n",
      "[flaml.automl.logger: 06-26 23:15:45] {2282} INFO - iteration 28, current learner catboost\n",
      "[flaml.automl.logger: 06-26 23:15:48] {2466} INFO -  at 14.8s,\testimator catboost's best error=0.2076,\tbest estimator catboost's best error=0.2076\n",
      "[flaml.automl.logger: 06-26 23:15:48] {2282} INFO - iteration 29, current learner catboost\n",
      "[flaml.automl.logger: 06-26 23:15:50] {2466} INFO -  at 17.6s,\testimator catboost's best error=0.2076,\tbest estimator catboost's best error=0.2076\n",
      "[flaml.automl.logger: 06-26 23:15:50] {2282} INFO - iteration 30, current learner catboost\n",
      "[flaml.automl.logger: 06-26 23:15:55] {2466} INFO -  at 21.8s,\testimator catboost's best error=0.2076,\tbest estimator catboost's best error=0.2076\n",
      "[flaml.automl.logger: 06-26 23:15:55] {2282} INFO - iteration 31, current learner lgbm\n",
      "[flaml.automl.logger: 06-26 23:15:55] {2466} INFO -  at 22.2s,\testimator lgbm's best error=0.2099,\tbest estimator catboost's best error=0.2076\n",
      "[flaml.automl.logger: 06-26 23:15:55] {2282} INFO - iteration 32, current learner catboost\n",
      "[flaml.automl.logger: 06-26 23:15:57] {2466} INFO -  at 24.0s,\testimator catboost's best error=0.2076,\tbest estimator catboost's best error=0.2076\n",
      "[flaml.automl.logger: 06-26 23:15:57] {2282} INFO - iteration 33, current learner lgbm\n",
      "[flaml.automl.logger: 06-26 23:15:57] {2466} INFO -  at 24.3s,\testimator lgbm's best error=0.2099,\tbest estimator catboost's best error=0.2076\n",
      "[flaml.automl.logger: 06-26 23:15:57] {2282} INFO - iteration 34, current learner lgbm\n",
      "[flaml.automl.logger: 06-26 23:15:57] {2466} INFO -  at 24.5s,\testimator lgbm's best error=0.2099,\tbest estimator catboost's best error=0.2076\n",
      "[flaml.automl.logger: 06-26 23:15:57] {2282} INFO - iteration 35, current learner lgbm\n",
      "[flaml.automl.logger: 06-26 23:15:58] {2466} INFO -  at 24.7s,\testimator lgbm's best error=0.2099,\tbest estimator catboost's best error=0.2076\n",
      "[flaml.automl.logger: 06-26 23:15:58] {2282} INFO - iteration 36, current learner lgbm\n",
      "[flaml.automl.logger: 06-26 23:15:58] {2466} INFO -  at 25.0s,\testimator lgbm's best error=0.2099,\tbest estimator catboost's best error=0.2076\n",
      "[flaml.automl.logger: 06-26 23:15:58] {2282} INFO - iteration 37, current learner lgbm\n",
      "[flaml.automl.logger: 06-26 23:15:58] {2466} INFO -  at 25.2s,\testimator lgbm's best error=0.2099,\tbest estimator catboost's best error=0.2076\n",
      "[flaml.automl.logger: 06-26 23:15:58] {2282} INFO - iteration 38, current learner lgbm\n",
      "[flaml.automl.logger: 06-26 23:15:58] {2466} INFO -  at 25.3s,\testimator lgbm's best error=0.2099,\tbest estimator catboost's best error=0.2076\n",
      "[flaml.automl.logger: 06-26 23:15:58] {2282} INFO - iteration 39, current learner lgbm\n",
      "[flaml.automl.logger: 06-26 23:15:58] {2466} INFO -  at 25.7s,\testimator lgbm's best error=0.2099,\tbest estimator catboost's best error=0.2076\n",
      "[flaml.automl.logger: 06-26 23:15:58] {2282} INFO - iteration 40, current learner catboost\n",
      "[flaml.automl.logger: 06-26 23:16:03] {2466} INFO -  at 30.1s,\testimator catboost's best error=0.2076,\tbest estimator catboost's best error=0.2076\n",
      "[flaml.automl.logger: 06-26 23:16:03] {2282} INFO - iteration 41, current learner lgbm\n",
      "[flaml.automl.logger: 06-26 23:16:03] {2466} INFO -  at 30.2s,\testimator lgbm's best error=0.2099,\tbest estimator catboost's best error=0.2076\n",
      "[flaml.automl.logger: 06-26 23:16:03] {2282} INFO - iteration 42, current learner lgbm\n",
      "[flaml.automl.logger: 06-26 23:16:03] {2466} INFO -  at 30.3s,\testimator lgbm's best error=0.2099,\tbest estimator catboost's best error=0.2076\n",
      "[flaml.automl.logger: 06-26 23:16:03] {2282} INFO - iteration 43, current learner lgbm\n",
      "[flaml.automl.logger: 06-26 23:16:03] {2466} INFO -  at 30.6s,\testimator lgbm's best error=0.2099,\tbest estimator catboost's best error=0.2076\n",
      "[flaml.automl.logger: 06-26 23:16:03] {2282} INFO - iteration 44, current learner lgbm\n",
      "[flaml.automl.logger: 06-26 23:16:04] {2466} INFO -  at 30.7s,\testimator lgbm's best error=0.2099,\tbest estimator catboost's best error=0.2076\n",
      "[flaml.automl.logger: 06-26 23:16:04] {2282} INFO - iteration 45, current learner lgbm\n",
      "[flaml.automl.logger: 06-26 23:16:04] {2466} INFO -  at 31.1s,\testimator lgbm's best error=0.2099,\tbest estimator catboost's best error=0.2076\n",
      "[flaml.automl.logger: 06-26 23:16:04] {2282} INFO - iteration 46, current learner catboost\n",
      "[flaml.automl.logger: 06-26 23:16:06] {2466} INFO -  at 32.9s,\testimator catboost's best error=0.2076,\tbest estimator catboost's best error=0.2076\n",
      "[flaml.automl.logger: 06-26 23:16:06] {2282} INFO - iteration 47, current learner lgbm\n",
      "[flaml.automl.logger: 06-26 23:16:06] {2466} INFO -  at 33.1s,\testimator lgbm's best error=0.2099,\tbest estimator catboost's best error=0.2076\n",
      "[flaml.automl.logger: 06-26 23:16:06] {2282} INFO - iteration 48, current learner lgbm\n",
      "[flaml.automl.logger: 06-26 23:16:06] {2466} INFO -  at 33.4s,\testimator lgbm's best error=0.2099,\tbest estimator catboost's best error=0.2076\n",
      "[flaml.automl.logger: 06-26 23:16:06] {2282} INFO - iteration 49, current learner lgbm\n",
      "[flaml.automl.logger: 06-26 23:16:07] {2466} INFO -  at 34.4s,\testimator lgbm's best error=0.2099,\tbest estimator catboost's best error=0.2076\n",
      "[flaml.automl.logger: 06-26 23:16:07] {2282} INFO - iteration 50, current learner lgbm\n",
      "[flaml.automl.logger: 06-26 23:16:07] {2466} INFO -  at 34.5s,\testimator lgbm's best error=0.2099,\tbest estimator catboost's best error=0.2076\n",
      "[flaml.automl.logger: 06-26 23:16:07] {2282} INFO - iteration 51, current learner catboost\n",
      "[flaml.automl.logger: 06-26 23:16:11] {2466} INFO -  at 37.9s,\testimator catboost's best error=0.2076,\tbest estimator catboost's best error=0.2076\n",
      "[flaml.automl.logger: 06-26 23:16:11] {2282} INFO - iteration 52, current learner catboost\n",
      "[flaml.automl.logger: 06-26 23:16:13] {2466} INFO -  at 40.1s,\testimator catboost's best error=0.2076,\tbest estimator catboost's best error=0.2076\n",
      "[flaml.automl.logger: 06-26 23:16:13] {2282} INFO - iteration 53, current learner lgbm\n",
      "[flaml.automl.logger: 06-26 23:16:13] {2466} INFO -  at 40.5s,\testimator lgbm's best error=0.2090,\tbest estimator catboost's best error=0.2076\n",
      "[flaml.automl.logger: 06-26 23:16:13] {2282} INFO - iteration 54, current learner catboost\n",
      "[flaml.automl.logger: 06-26 23:16:18] {2466} INFO -  at 44.7s,\testimator catboost's best error=0.2076,\tbest estimator catboost's best error=0.2076\n",
      "[flaml.automl.logger: 06-26 23:16:18] {2724} INFO - retrain catboost for 0.3s\n",
      "[flaml.automl.logger: 06-26 23:16:18] {2727} INFO - retrained model: <catboost.core.CatBoostRegressor object at 0x30534d370>\n",
      "[flaml.automl.logger: 06-26 23:16:18] {2009} INFO - fit succeeded\n",
      "[flaml.automl.logger: 06-26 23:16:18] {2010} INFO - Time taken to find the best model: 0.7253129482269287\n"
     ]
    }
   ],
   "source": [
    "automl=AutoML()\n",
    "automl.fit(\n",
    "      X_train=X_train,\n",
    "      Y_train=Y_train,\n",
    "      task='regression',\n",
    "      time_budget=45,\n",
    "      estimator_list=['catboost','lgbm']\n",
    ")"
   ]
  },
  {
   "cell_type": "code",
   "execution_count": 33,
   "id": "ab042052",
   "metadata": {},
   "outputs": [
    {
     "name": "stdout",
     "output_type": "stream",
     "text": [
      "FLAML Best ML model:  catboost\n",
      "Best configuration:  {'early_stopping_rounds': 10, 'learning_rate': 0.06233639237958607, 'n_estimators': 8192}\n",
      "Best loss:  0.20758933852808992\n"
     ]
    }
   ],
   "source": [
    "Y_pred=automl.predict(X_test)\n",
    "print(\"FLAML Best ML model: \",automl.best_estimator)\n",
    "print(\"Best configuration: \",automl.best_config)\n",
    "print(\"Best loss: \", automl.best_loss)"
   ]
  },
  {
   "cell_type": "code",
   "execution_count": 36,
   "id": "abfa6a2a",
   "metadata": {},
   "outputs": [
    {
     "name": "stdout",
     "output_type": "stream",
     "text": [
      "R^2 score(FLAML):  0.7919576959910408\n",
      "Root mean squared error(FLAML):  7.6377344472081985\n"
     ]
    }
   ],
   "source": [
    "from sklearn.metrics import r2_score,root_mean_squared_error\n",
    "print(\"R^2 score(FLAML): \",r2_score(Y_test,Y_pred))\n",
    "print(\"Root mean squared error(FLAML): \",root_mean_squared_error(Y_test,Y_pred))"
   ]
  }
 ],
 "metadata": {
  "kernelspec": {
   "display_name": "base",
   "language": "python",
   "name": "python3"
  },
  "language_info": {
   "codemirror_mode": {
    "name": "ipython",
    "version": 3
   },
   "file_extension": ".py",
   "mimetype": "text/x-python",
   "name": "python",
   "nbconvert_exporter": "python",
   "pygments_lexer": "ipython3",
   "version": "3.12.2"
  }
 },
 "nbformat": 4,
 "nbformat_minor": 5
}
