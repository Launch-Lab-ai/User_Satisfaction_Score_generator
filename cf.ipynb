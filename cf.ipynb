{
 "cells": [
  {
   "cell_type": "code",
   "execution_count": 54,
   "id": "e3a228e7",
   "metadata": {},
   "outputs": [],
   "source": [
    "import numpy as np\n",
    "import pandas as pd\n",
    "import matplotlib.pyplot as plt\n",
    "import seaborn as sns\n",
    "from flaml import AutoML\n",
    "from sklearn.model_selection import train_test_split\n",
    "from sklearn.metrics import r2_score, mean_squared_error\n",
    "from catboost import CatBoostRegressor"
   ]
  },
  {
   "cell_type": "code",
   "execution_count": 55,
   "id": "b127bf0a",
   "metadata": {},
   "outputs": [],
   "source": [
    "def count_plot(length, width, xlabel, ylabel, title, given, col_name,hue=None, palette=\"dark\", rotation=0, order=None, show_values=False):\n",
    "    plt.figure(figsize=(length,width))\n",
    "    ax = sns.countplot(data=given, x=col_name, hue=hue, palette=palette, order=order)\n",
    "    plt.xlabel(xlabel)\n",
    "    plt.ylabel(ylabel)\n",
    "    plt.title(title)\n",
    "    plt.xticks(rotation=rotation)\n",
    "    if show_values:\n",
    "        for p in ax.patches:\n",
    "            height = p.get_height()\n",
    "            ax.annotate(f\"{height}\", (p.get_x()+p.get_width()/2., height), ha='center', va='bottom', fontsize=10)\n",
    "    plt.tight_layout()\n",
    "    plt.show()\n",
    "\n",
    "def bar_plot(length, width, xlabel, ylabel, title, X, Y, Data, palette=\"dark\", rotation=0, show_values=False):\n",
    "    plt.figure(figsize=(length,width))\n",
    "    ax = sns.barplot(x=X, y=Y, data=Data, palette=palette)\n",
    "    plt.xlabel(xlabel)\n",
    "    plt.ylabel(ylabel)\n",
    "    plt.title(title)\n",
    "    plt.xticks(rotation=rotation)\n",
    "    if show_values:\n",
    "        for p in ax.patches:\n",
    "            height = p.get_height()\n",
    "            ax.annotate(f\"{height}\", (p.get_x()+p.get_width()/2., height), ha='center', va='bottom', fontsize=10)\n",
    "    plt.tight_layout()\n",
    "    plt.show()\n",
    "\n",
    "def histplot(length, width, xlabel, ylabel, title, given, col_name, bins=10, kde=False, palette=\"dark\", rotation=0):\n",
    "    plt.figure(figsize=(length, width))\n",
    "    ax = sns.histplot(data=given, x=col_name, bins=bins, kde=kde, color=palette)\n",
    "    plt.xlabel(xlabel)\n",
    "    plt.ylabel(ylabel)\n",
    "    plt.title(title)\n",
    "    plt.xticks(rotation=rotation)\n",
    "    plt.tight_layout()\n",
    "    plt.show()\n"
   ]
  },
  {
   "cell_type": "code",
   "execution_count": 56,
   "id": "fbb784fa",
   "metadata": {},
   "outputs": [],
   "source": [
    "dataset = pd.read_csv(\"customer_feedback_satisfaction.csv\")\n",
    "dataset.set_index('CustomerID', inplace=True)"
   ]
  },
  {
   "cell_type": "code",
   "execution_count": 57,
   "id": "5d496df5",
   "metadata": {},
   "outputs": [],
   "source": [
    "features = ['Age', 'Gender', 'Country', 'Income', 'ProductQuality',\n",
    "            'ServiceQuality', 'PurchaseFrequency', 'FeedbackScore', 'LoyaltyLevel']\n",
    "target = 'SatisfactionScore'"
   ]
  },
  {
   "cell_type": "code",
   "execution_count": 58,
   "id": "36d1ceac",
   "metadata": {},
   "outputs": [],
   "source": [
    "X = dataset[features]\n",
    "y = dataset[target]"
   ]
  },
  {
   "cell_type": "code",
   "execution_count": 105,
   "id": "977d18e4",
   "metadata": {},
   "outputs": [
    {
     "name": "stderr",
     "output_type": "stream",
     "text": [
      "/var/folders/w0/_5c4mft945vchbzs2p863vvm0000gn/T/ipykernel_35706/420280796.py:7: SettingWithCopyWarning: \n",
      "A value is trying to be set on a copy of a slice from a DataFrame.\n",
      "Try using .loc[row_indexer,col_indexer] = value instead\n",
      "\n",
      "See the caveats in the documentation: https://pandas.pydata.org/pandas-docs/stable/user_guide/indexing.html#returning-a-view-versus-a-copy\n",
      "  X[col] = le.fit_transform(X[col].astype(str))\n",
      "/var/folders/w0/_5c4mft945vchbzs2p863vvm0000gn/T/ipykernel_35706/420280796.py:7: SettingWithCopyWarning: \n",
      "A value is trying to be set on a copy of a slice from a DataFrame.\n",
      "Try using .loc[row_indexer,col_indexer] = value instead\n",
      "\n",
      "See the caveats in the documentation: https://pandas.pydata.org/pandas-docs/stable/user_guide/indexing.html#returning-a-view-versus-a-copy\n",
      "  X[col] = le.fit_transform(X[col].astype(str))\n",
      "/var/folders/w0/_5c4mft945vchbzs2p863vvm0000gn/T/ipykernel_35706/420280796.py:7: SettingWithCopyWarning: \n",
      "A value is trying to be set on a copy of a slice from a DataFrame.\n",
      "Try using .loc[row_indexer,col_indexer] = value instead\n",
      "\n",
      "See the caveats in the documentation: https://pandas.pydata.org/pandas-docs/stable/user_guide/indexing.html#returning-a-view-versus-a-copy\n",
      "  X[col] = le.fit_transform(X[col].astype(str))\n"
     ]
    }
   ],
   "source": [
    "from sklearn.preprocessing import LabelEncoder\n",
    "categorical_cols = ['Gender', 'Country', 'LoyaltyLevel']\n",
    "le_dict = {}\n",
    "\n",
    "for col in categorical_cols:\n",
    "    le = LabelEncoder()\n",
    "    X[col] = le.fit_transform(X[col].astype(str))\n",
    "    le_dict[col] = le  # for inverse_transform later if needed"
   ]
  },
  {
   "cell_type": "code",
   "execution_count": 74,
   "id": "69d6cdef",
   "metadata": {},
   "outputs": [
    {
     "name": "stderr",
     "output_type": "stream",
     "text": [
      "/var/folders/w0/_5c4mft945vchbzs2p863vvm0000gn/T/ipykernel_35706/3715628354.py:3: SettingWithCopyWarning: \n",
      "A value is trying to be set on a copy of a slice from a DataFrame.\n",
      "Try using .loc[row_indexer,col_indexer] = value instead\n",
      "\n",
      "See the caveats in the documentation: https://pandas.pydata.org/pandas-docs/stable/user_guide/indexing.html#returning-a-view-versus-a-copy\n",
      "  X['FeedbackScore'] = X['FeedbackScore'].map(feedback_map)\n"
     ]
    }
   ],
   "source": [
    "# Map FeedbackScore to numeric values\n",
    "feedback_map = {'Low': 1, 'Medium': 2, 'High': 3}\n",
    "X['FeedbackScore'] = X['FeedbackScore'].map(feedback_map)"
   ]
  },
  {
   "cell_type": "code",
   "execution_count": 75,
   "id": "6a954958",
   "metadata": {},
   "outputs": [],
   "source": [
    "X_train, X_test, y_train, y_test = train_test_split(X, y, test_size=0.2, random_state=42)"
   ]
  },
  {
   "cell_type": "code",
   "execution_count": 76,
   "id": "129e39fc",
   "metadata": {},
   "outputs": [
    {
     "name": "stdout",
     "output_type": "stream",
     "text": [
      "[flaml.automl.logger: 06-26 18:17:10] {1752} INFO - task = regression\n",
      "[flaml.automl.logger: 06-26 18:17:10] {1763} INFO - Evaluation method: holdout\n",
      "[flaml.automl.logger: 06-26 18:17:10] {1862} INFO - Minimizing error metric: 1-r2\n",
      "[flaml.automl.logger: 06-26 18:17:10] {1979} INFO - List of ML learners in AutoML Run: ['catboost']\n",
      "[flaml.automl.logger: 06-26 18:17:10] {2282} INFO - iteration 0, current learner catboost\n",
      "[flaml.automl.logger: 06-26 18:17:10] {2417} INFO - Estimated sufficient time budget=2752s. Estimated necessary time budget=3s.\n",
      "[flaml.automl.logger: 06-26 18:17:10] {2466} INFO -  at 0.3s,\testimator catboost's best error=0.1973,\tbest estimator catboost's best error=0.1973\n",
      "[flaml.automl.logger: 06-26 18:17:10] {2282} INFO - iteration 1, current learner catboost\n",
      "[flaml.automl.logger: 06-26 18:17:11] {2466} INFO -  at 0.8s,\testimator catboost's best error=0.1968,\tbest estimator catboost's best error=0.1968\n",
      "[flaml.automl.logger: 06-26 18:17:11] {2282} INFO - iteration 2, current learner catboost\n",
      "[flaml.automl.logger: 06-26 18:17:11] {2466} INFO -  at 1.0s,\testimator catboost's best error=0.1968,\tbest estimator catboost's best error=0.1968\n",
      "[flaml.automl.logger: 06-26 18:17:11] {2282} INFO - iteration 3, current learner catboost\n",
      "[flaml.automl.logger: 06-26 18:17:12] {2466} INFO -  at 1.4s,\testimator catboost's best error=0.1968,\tbest estimator catboost's best error=0.1968\n",
      "[flaml.automl.logger: 06-26 18:17:12] {2282} INFO - iteration 4, current learner catboost\n",
      "[flaml.automl.logger: 06-26 18:17:12] {2466} INFO -  at 1.7s,\testimator catboost's best error=0.1968,\tbest estimator catboost's best error=0.1968\n",
      "[flaml.automl.logger: 06-26 18:17:12] {2282} INFO - iteration 5, current learner catboost\n",
      "[flaml.automl.logger: 06-26 18:17:12] {2466} INFO -  at 2.3s,\testimator catboost's best error=0.1968,\tbest estimator catboost's best error=0.1968\n",
      "[flaml.automl.logger: 06-26 18:17:12] {2282} INFO - iteration 6, current learner catboost\n",
      "[flaml.automl.logger: 06-26 18:17:16] {2466} INFO -  at 5.7s,\testimator catboost's best error=0.1968,\tbest estimator catboost's best error=0.1968\n",
      "[flaml.automl.logger: 06-26 18:17:16] {2282} INFO - iteration 7, current learner catboost\n",
      "[flaml.automl.logger: 06-26 18:17:20] {2466} INFO -  at 9.5s,\testimator catboost's best error=0.1968,\tbest estimator catboost's best error=0.1968\n",
      "\u001b[33m[flaml.automl.logger: 06-26 18:17:20] {2483} WARNING - All estimator hyperparameters local search has converged at least once, and the total search time exceeds 10 times the time taken to find the best model.\u001b[0m\n",
      "[flaml.automl.logger: 06-26 18:17:20] {2282} INFO - iteration 8, current learner catboost\n",
      "[flaml.automl.logger: 06-26 18:17:21] {2466} INFO -  at 11.0s,\testimator catboost's best error=0.1968,\tbest estimator catboost's best error=0.1968\n",
      "[flaml.automl.logger: 06-26 18:17:21] {2282} INFO - iteration 9, current learner catboost\n",
      "[flaml.automl.logger: 06-26 18:17:25] {2466} INFO -  at 14.8s,\testimator catboost's best error=0.1968,\tbest estimator catboost's best error=0.1968\n",
      "[flaml.automl.logger: 06-26 18:17:25] {2282} INFO - iteration 10, current learner catboost\n",
      "[flaml.automl.logger: 06-26 18:17:29] {2466} INFO -  at 18.7s,\testimator catboost's best error=0.1968,\tbest estimator catboost's best error=0.1968\n",
      "[flaml.automl.logger: 06-26 18:17:29] {2282} INFO - iteration 11, current learner catboost\n",
      "[flaml.automl.logger: 06-26 18:17:31] {2466} INFO -  at 20.9s,\testimator catboost's best error=0.1968,\tbest estimator catboost's best error=0.1968\n",
      "[flaml.automl.logger: 06-26 18:17:31] {2724} INFO - retrain catboost for 0.3s\n",
      "[flaml.automl.logger: 06-26 18:17:31] {2727} INFO - retrained model: <catboost.core.CatBoostRegressor object at 0x30c5d6c90>\n",
      "[flaml.automl.logger: 06-26 18:17:31] {2009} INFO - fit succeeded\n",
      "[flaml.automl.logger: 06-26 18:17:31] {2010} INFO - Time taken to find the best model: 0.7816512584686279\n"
     ]
    }
   ],
   "source": [
    "automl = AutoML()\n",
    "automl.fit(\n",
    "    X_train=X_train,\n",
    "    y_train=y_train,\n",
    "    task=\"regression\",\n",
    "    time_budget=20,  # seconds\n",
    "    estimator_list=['catboost']  # you can also try ['xgboost', 'rf'] if needed\n",
    ")"
   ]
  },
  {
   "cell_type": "code",
   "execution_count": 77,
   "id": "0ab55589",
   "metadata": {},
   "outputs": [
    {
     "name": "stdout",
     "output_type": "stream",
     "text": [
      "FLAML Best ML model: catboost\n",
      "Best config: {'early_stopping_rounds': 10, 'learning_rate': 0.06233639237958607, 'n_estimators': 8192}\n",
      "Best loss: 0.196773870974695\n",
      "R² Score (FLAML): 0.7922443513913077\n",
      "RMSE (FLAML): 7.629688421111795\n"
     ]
    },
    {
     "name": "stderr",
     "output_type": "stream",
     "text": [
      "/opt/anaconda3/lib/python3.12/site-packages/sklearn/metrics/_regression.py:483: FutureWarning: 'squared' is deprecated in version 1.4 and will be removed in 1.6. To calculate the root mean squared error, use the function'root_mean_squared_error'.\n",
      "  warnings.warn(\n"
     ]
    }
   ],
   "source": [
    "y_pred = automl.predict(X_test)\n",
    "print(\"FLAML Best ML model:\", automl.best_estimator)\n",
    "print(\"Best config:\", automl.best_config)\n",
    "print(\"Best loss:\", automl.best_loss)\n",
    "print(\"R² Score (FLAML):\", r2_score(y_test, y_pred))\n",
    "print(\"RMSE (FLAML):\", mean_squared_error(y_test, y_pred, squared=False))\n"
   ]
  },
  {
   "cell_type": "code",
   "execution_count": 78,
   "id": "c2a8a138",
   "metadata": {},
   "outputs": [
    {
     "name": "stdout",
     "output_type": "stream",
     "text": [
      "0:\tlearn: 16.2510058\ttotal: 4.44ms\tremaining: 4.44s\n",
      "100:\tlearn: 7.6338362\ttotal: 161ms\tremaining: 1.44s\n",
      "200:\tlearn: 7.5203268\ttotal: 313ms\tremaining: 1.24s\n",
      "300:\tlearn: 7.4314236\ttotal: 461ms\tremaining: 1.07s\n",
      "400:\tlearn: 7.3493691\ttotal: 612ms\tremaining: 914ms\n",
      "500:\tlearn: 7.2803054\ttotal: 770ms\tremaining: 766ms\n",
      "600:\tlearn: 7.2165157\ttotal: 936ms\tremaining: 621ms\n",
      "700:\tlearn: 7.1567153\ttotal: 1.09s\tremaining: 467ms\n",
      "800:\tlearn: 7.0992935\ttotal: 1.25s\tremaining: 311ms\n",
      "900:\tlearn: 7.0460434\ttotal: 1.42s\tremaining: 156ms\n",
      "999:\tlearn: 6.9956578\ttotal: 1.65s\tremaining: 0us\n"
     ]
    },
    {
     "data": {
      "text/plain": [
       "<catboost.core.CatBoostRegressor at 0x303b02f00>"
      ]
     },
     "execution_count": 78,
     "metadata": {},
     "output_type": "execute_result"
    }
   ],
   "source": [
    "# Now you can safely run CatBoost\n",
    "cat_model = CatBoostRegressor(\n",
    "    iterations=1000,\n",
    "    learning_rate=0.06233,\n",
    "    depth=6,\n",
    "    verbose=100\n",
    ")\n",
    "cat_model.fit(X_train, y_train)"
   ]
  },
  {
   "cell_type": "code",
   "execution_count": 79,
   "id": "ee339706",
   "metadata": {},
   "outputs": [
    {
     "name": "stdout",
     "output_type": "stream",
     "text": [
      "R² Score (CatBoost): 0.788315367281269\n",
      "RMSE (CatBoost): 7.701495184624587\n"
     ]
    },
    {
     "name": "stderr",
     "output_type": "stream",
     "text": [
      "/opt/anaconda3/lib/python3.12/site-packages/sklearn/metrics/_regression.py:483: FutureWarning: 'squared' is deprecated in version 1.4 and will be removed in 1.6. To calculate the root mean squared error, use the function'root_mean_squared_error'.\n",
      "  warnings.warn(\n"
     ]
    }
   ],
   "source": [
    "y_pred_cat = cat_model.predict(X_test)\n",
    "print(\"R² Score (CatBoost):\", r2_score(y_test, y_pred_cat))\n",
    "print(\"RMSE (CatBoost):\", mean_squared_error(y_test, y_pred_cat, squared=False))\n"
   ]
  },
  {
   "cell_type": "code",
   "execution_count": 80,
   "id": "439c5258",
   "metadata": {},
   "outputs": [],
   "source": [
    "importances = cat_model.get_feature_importance()\n",
    "feature_names = X_train.columns"
   ]
  },
  {
   "cell_type": "code",
   "execution_count": 81,
   "id": "918d0ccf",
   "metadata": {},
   "outputs": [
    {
     "data": {
      "image/png": "[encoded data removed]",
      "text/plain": [
       "<Figure size 1000x600 with 1 Axes>"
      ]
     },
     "metadata": {},
     "output_type": "display_data"
    }
   ],
   "source": [
    "plt.figure(figsize=(10, 6))\n",
    "sns.barplot(x=importances, y=feature_names)\n",
    "plt.title(\"CatBoost Feature Importance\")\n",
    "plt.xlabel(\"Importance Score\")\n",
    "plt.ylabel(\"Features\")\n",
    "plt.tight_layout()\n",
    "plt.show()"
   ]
  },
  {
   "cell_type": "code",
   "execution_count": 84,
   "id": "111f28aa",
   "metadata": {},
   "outputs": [
    {
     "name": "stdout",
     "output_type": "stream",
     "text": [
      "Predicted Satisfaction Score: 99.64764416898119\n"
     ]
    }
   ],
   "source": [
    "sample_values = [[28, 0, 2, 80000, 8, 9, 10, 5, 1]]\n",
    "prediction = cat_model.predict(sample_values)\n",
    "print(\"Predicted Satisfaction Score:\", prediction[0])"
   ]
  },
  {
   "cell_type": "code",
   "execution_count": 85,
   "id": "a3615dc4",
   "metadata": {},
   "outputs": [
    {
     "name": "stdout",
     "output_type": "stream",
     "text": [
      "MAE: 5.438790858028709\n"
     ]
    }
   ],
   "source": [
    "from sklearn.metrics import mean_absolute_error\n",
    "mae = mean_absolute_error(y_test, y_pred)\n",
    "print(\"MAE:\", mae)"
   ]
  },
  {
   "cell_type": "code",
   "execution_count": 86,
   "id": "4cbb9945",
   "metadata": {},
   "outputs": [
    {
     "name": "stdout",
     "output_type": "stream",
     "text": [
      "MAPE: 7.529676952089373\n"
     ]
    }
   ],
   "source": [
    "mape = np.mean(np.abs((y_test - y_pred) / y_test)) * 100\n",
    "print(\"MAPE:\", mape)"
   ]
  },
  {
   "cell_type": "code",
   "execution_count": 87,
   "id": "c88a1501",
   "metadata": {},
   "outputs": [
    {
     "name": "stdout",
     "output_type": "stream",
     "text": [
      "Explained Variance Score: 0.7922459633498956\n"
     ]
    }
   ],
   "source": [
    "from sklearn.metrics import explained_variance_score\n",
    "evs = explained_variance_score(y_test, y_pred)\n",
    "print(\"Explained Variance Score:\", evs)"
   ]
  },
  {
   "cell_type": "code",
   "execution_count": 88,
   "id": "d737bd5a",
   "metadata": {},
   "outputs": [
    {
     "name": "stdout",
     "output_type": "stream",
     "text": [
      "Median Absolute Error: 3.8337602952404524\n"
     ]
    }
   ],
   "source": [
    "from sklearn.metrics import median_absolute_error\n",
    "medae = median_absolute_error(y_test, y_pred)\n",
    "print(\"Median Absolute Error:\", medae)"
   ]
  },
  {
   "cell_type": "code",
   "execution_count": 104,
   "id": "04360901",
   "metadata": {},
   "outputs": [
    {
     "name": "stdout",
     "output_type": "stream",
     "text": [
      "Custom Accuracy within ±7.7: 73.07%\n"
     ]
    }
   ],
   "source": [
    "threshold = 7.7\n",
    "correct = np.abs(y_pred - y_test) <= threshold\n",
    "accuracy = np.mean(correct) * 100\n",
    "\n",
    "print(f\"Custom Accuracy within ±{threshold}: {accuracy:.2f}%\")"
   ]
  }
 ],
 "metadata": {
  "kernelspec": {
   "display_name": "base",
   "language": "python",
   "name": "python3"
  },
  "language_info": {
   "codemirror_mode": {
    "name": "ipython",
    "version": 3
   },
   "file_extension": ".py",
   "mimetype": "text/x-python",
   "name": "python",
   "nbconvert_exporter": "python",
   "pygments_lexer": "ipython3",
   "version": "3.12.2"
  }
 },
 "nbformat": 4,
 "nbformat_minor": 5
}
